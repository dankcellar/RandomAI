{
 "cells": [
  {
   "cell_type": "code",
   "execution_count": 3,
   "id": "ef13e797",
   "metadata": {},
   "outputs": [
    {
     "name": "stdout",
     "output_type": "stream",
     "text": [
      "Collecting transformers\n",
      "  Downloading transformers-4.33.1-py3-none-any.whl (7.6 MB)\n",
      "Collecting huggingface-hub<1.0,>=0.15.1\n",
      "  Downloading huggingface_hub-0.16.4-py3-none-any.whl (268 kB)\n",
      "Collecting tokenizers!=0.11.3,<0.14,>=0.11.1\n",
      "  Downloading tokenizers-0.13.3-cp38-cp38-win_amd64.whl (3.5 MB)\n",
      "Collecting safetensors>=0.3.1\n",
      "  Downloading safetensors-0.3.3-cp38-cp38-win_amd64.whl (266 kB)\n",
      "Requirement already satisfied: requests in c:\\users\\marcus home\\anaconda3\\lib\\site-packages (from transformers) (2.25.1)\n",
      "Requirement already satisfied: filelock in c:\\users\\marcus home\\anaconda3\\lib\\site-packages (from transformers) (3.0.12)\n",
      "Requirement already satisfied: tqdm>=4.27 in c:\\users\\marcus home\\anaconda3\\lib\\site-packages (from transformers) (4.61.2)\n",
      "Requirement already satisfied: regex!=2019.12.17 in c:\\users\\marcus home\\anaconda3\\lib\\site-packages (from transformers) (2021.7.6)\n",
      "Requirement already satisfied: pyyaml>=5.1 in c:\\users\\marcus home\\anaconda3\\lib\\site-packages (from transformers) (5.4.1)\n",
      "Requirement already satisfied: numpy>=1.17 in c:\\users\\marcus home\\anaconda3\\lib\\site-packages (from transformers) (1.19.5)\n",
      "Requirement already satisfied: packaging>=20.0 in c:\\users\\marcus home\\anaconda3\\lib\\site-packages (from transformers) (21.0)\n",
      "Requirement already satisfied: typing-extensions>=3.7.4.3 in c:\\users\\marcus home\\anaconda3\\lib\\site-packages (from huggingface-hub<1.0,>=0.15.1->transformers) (3.7.4.3)\n",
      "Requirement already satisfied: fsspec in c:\\users\\marcus home\\anaconda3\\lib\\site-packages (from huggingface-hub<1.0,>=0.15.1->transformers) (2021.7.0)\n",
      "Requirement already satisfied: pyparsing>=2.0.2 in c:\\users\\marcus home\\anaconda3\\lib\\site-packages (from packaging>=20.0->transformers) (2.4.7)\n",
      "Requirement already satisfied: colorama in c:\\users\\marcus home\\appdata\\roaming\\python\\python38\\site-packages (from tqdm>=4.27->transformers) (0.4.4)\n",
      "Requirement already satisfied: chardet<5,>=3.0.2 in c:\\users\\marcus home\\anaconda3\\lib\\site-packages (from requests->transformers) (4.0.0)\n",
      "Requirement already satisfied: certifi>=2017.4.17 in c:\\users\\marcus home\\anaconda3\\lib\\site-packages (from requests->transformers) (2021.5.30)\n",
      "Requirement already satisfied: urllib3<1.27,>=1.21.1 in c:\\users\\marcus home\\anaconda3\\lib\\site-packages (from requests->transformers) (1.26.6)\n",
      "Requirement already satisfied: idna<3,>=2.5 in c:\\users\\marcus home\\anaconda3\\lib\\site-packages (from requests->transformers) (2.10)\n",
      "Installing collected packages: tokenizers, safetensors, huggingface-hub, transformers\n",
      "Successfully installed huggingface-hub-0.16.4 safetensors-0.3.3 tokenizers-0.13.3 transformers-4.33.1\n",
      "Collecting datasets\n",
      "  Downloading datasets-2.14.5-py3-none-any.whl (519 kB)\n",
      "Requirement already satisfied: packaging in c:\\users\\marcus home\\anaconda3\\lib\\site-packages (from datasets) (21.0)\n",
      "Collecting multiprocess\n",
      "  Downloading multiprocess-0.70.15-py38-none-any.whl (132 kB)\n",
      "Collecting pyarrow>=8.0.0\n",
      "  Downloading pyarrow-13.0.0-cp38-cp38-win_amd64.whl (24.4 MB)\n",
      "Collecting xxhash\n",
      "  Downloading xxhash-3.3.0-cp38-cp38-win_amd64.whl (29 kB)\n",
      "Collecting fsspec[http]<2023.9.0,>=2023.1.0\n",
      "  Downloading fsspec-2023.6.0-py3-none-any.whl (163 kB)\n",
      "Collecting aiohttp\n",
      "  Downloading aiohttp-3.8.5-cp38-cp38-win_amd64.whl (327 kB)\n",
      "Collecting dill<0.3.8,>=0.3.0\n",
      "  Downloading dill-0.3.7-py3-none-any.whl (115 kB)\n",
      "Requirement already satisfied: pandas in c:\\users\\marcus home\\anaconda3\\lib\\site-packages (from datasets) (1.1.3)\n",
      "Requirement already satisfied: numpy>=1.17 in c:\\users\\marcus home\\anaconda3\\lib\\site-packages (from datasets) (1.19.5)\n",
      "Requirement already satisfied: requests>=2.19.0 in c:\\users\\marcus home\\anaconda3\\lib\\site-packages (from datasets) (2.25.1)\n",
      "Requirement already satisfied: pyyaml>=5.1 in c:\\users\\marcus home\\anaconda3\\lib\\site-packages (from datasets) (5.4.1)\n",
      "Collecting tqdm>=4.62.1\n",
      "  Downloading tqdm-4.66.1-py3-none-any.whl (78 kB)\n",
      "Requirement already satisfied: huggingface-hub<1.0.0,>=0.14.0 in c:\\users\\marcus home\\anaconda3\\lib\\site-packages (from datasets) (0.16.4)\n",
      "Collecting charset-normalizer<4.0,>=2.0\n",
      "  Downloading charset_normalizer-3.2.0-cp38-cp38-win_amd64.whl (96 kB)\n",
      "Collecting multidict<7.0,>=4.5\n",
      "  Downloading multidict-6.0.4-cp38-cp38-win_amd64.whl (28 kB)\n",
      "Collecting yarl<2.0,>=1.0\n",
      "  Downloading yarl-1.9.2-cp38-cp38-win_amd64.whl (61 kB)\n",
      "Requirement already satisfied: attrs>=17.3.0 in c:\\users\\marcus home\\anaconda3\\lib\\site-packages (from aiohttp->datasets) (21.2.0)\n",
      "Collecting frozenlist>=1.1.1\n",
      "  Downloading frozenlist-1.4.0-cp38-cp38-win_amd64.whl (44 kB)\n",
      "Collecting aiosignal>=1.1.2\n",
      "  Downloading aiosignal-1.3.1-py3-none-any.whl (7.6 kB)\n",
      "Collecting async-timeout<5.0,>=4.0.0a3\n",
      "  Downloading async_timeout-4.0.3-py3-none-any.whl (5.7 kB)\n",
      "Requirement already satisfied: typing-extensions>=3.7.4.3 in c:\\users\\marcus home\\anaconda3\\lib\\site-packages (from huggingface-hub<1.0.0,>=0.14.0->datasets) (3.7.4.3)\n",
      "Requirement already satisfied: filelock in c:\\users\\marcus home\\anaconda3\\lib\\site-packages (from huggingface-hub<1.0.0,>=0.14.0->datasets) (3.0.12)\n",
      "Requirement already satisfied: pyparsing>=2.0.2 in c:\\users\\marcus home\\anaconda3\\lib\\site-packages (from packaging->datasets) (2.4.7)\n",
      "Requirement already satisfied: certifi>=2017.4.17 in c:\\users\\marcus home\\anaconda3\\lib\\site-packages (from requests>=2.19.0->datasets) (2021.5.30)\n",
      "Requirement already satisfied: idna<3,>=2.5 in c:\\users\\marcus home\\anaconda3\\lib\\site-packages (from requests>=2.19.0->datasets) (2.10)\n",
      "Requirement already satisfied: chardet<5,>=3.0.2 in c:\\users\\marcus home\\anaconda3\\lib\\site-packages (from requests>=2.19.0->datasets) (4.0.0)\n",
      "Requirement already satisfied: urllib3<1.27,>=1.21.1 in c:\\users\\marcus home\\anaconda3\\lib\\site-packages (from requests>=2.19.0->datasets) (1.26.6)\n",
      "Requirement already satisfied: colorama in c:\\users\\marcus home\\appdata\\roaming\\python\\python38\\site-packages (from tqdm>=4.62.1->datasets) (0.4.4)\n",
      "Requirement already satisfied: pytz>=2017.2 in c:\\users\\marcus home\\anaconda3\\lib\\site-packages (from pandas->datasets) (2021.1)\n",
      "Requirement already satisfied: python-dateutil>=2.7.3 in c:\\users\\marcus home\\anaconda3\\lib\\site-packages (from pandas->datasets) (2.8.2)\n",
      "Requirement already satisfied: six>=1.5 in c:\\users\\marcus home\\appdata\\roaming\\python\\python38\\site-packages (from python-dateutil>=2.7.3->pandas->datasets) (1.15.0)\n",
      "Installing collected packages: multidict, frozenlist, yarl, charset-normalizer, async-timeout, aiosignal, tqdm, fsspec, dill, aiohttp, xxhash, pyarrow, multiprocess, datasets\n",
      "  Attempting uninstall: tqdm\n",
      "    Found existing installation: tqdm 4.61.2\n",
      "    Uninstalling tqdm-4.61.2:\n",
      "      Successfully uninstalled tqdm-4.61.2\n",
      "  Attempting uninstall: fsspec\n",
      "    Found existing installation: fsspec 2021.7.0\n",
      "    Uninstalling fsspec-2021.7.0:\n",
      "      Successfully uninstalled fsspec-2021.7.0\n",
      "Successfully installed aiohttp-3.8.5 aiosignal-1.3.1 async-timeout-4.0.3 charset-normalizer-3.2.0 datasets-2.14.5 dill-0.3.7 frozenlist-1.4.0 fsspec-2023.6.0 multidict-6.0.4 multiprocess-0.70.15 pyarrow-13.0.0 tqdm-4.66.1 xxhash-3.3.0 yarl-1.9.2\n",
      "Collecting trl\n",
      "  Downloading trl-0.7.1-py3-none-any.whl (117 kB)\n",
      "Requirement already satisfied: datasets in c:\\users\\marcus home\\anaconda3\\lib\\site-packages (from trl) (2.14.5)\n",
      "Requirement already satisfied: numpy>=1.18.2 in c:\\users\\marcus home\\anaconda3\\lib\\site-packages (from trl) (1.19.5)\n",
      "Collecting torch>=1.4.0\n",
      "  Downloading torch-2.0.1-cp38-cp38-win_amd64.whl (172.4 MB)\n",
      "Collecting accelerate\n",
      "  Downloading accelerate-0.22.0-py3-none-any.whl (251 kB)\n",
      "Requirement already satisfied: transformers>=4.18.0 in c:\\users\\marcus home\\anaconda3\\lib\\site-packages (from trl) (4.33.1)\n",
      "Requirement already satisfied: networkx in c:\\users\\marcus home\\anaconda3\\lib\\site-packages (from torch>=1.4.0->trl) (2.6.2)\n",
      "Requirement already satisfied: sympy in c:\\users\\marcus home\\anaconda3\\lib\\site-packages (from torch>=1.4.0->trl) (1.8)\n",
      "Requirement already satisfied: filelock in c:\\users\\marcus home\\anaconda3\\lib\\site-packages (from torch>=1.4.0->trl) (3.0.12)\n",
      "Requirement already satisfied: jinja2 in c:\\users\\marcus home\\anaconda3\\lib\\site-packages (from torch>=1.4.0->trl) (2.11.3)\n",
      "Requirement already satisfied: typing-extensions in c:\\users\\marcus home\\anaconda3\\lib\\site-packages (from torch>=1.4.0->trl) (3.7.4.3)\n",
      "Requirement already satisfied: regex!=2019.12.17 in c:\\users\\marcus home\\anaconda3\\lib\\site-packages (from transformers>=4.18.0->trl) (2021.7.6)\n",
      "Requirement already satisfied: huggingface-hub<1.0,>=0.15.1 in c:\\users\\marcus home\\anaconda3\\lib\\site-packages (from transformers>=4.18.0->trl) (0.16.4)\n",
      "Requirement already satisfied: packaging>=20.0 in c:\\users\\marcus home\\anaconda3\\lib\\site-packages (from transformers>=4.18.0->trl) (21.0)\n",
      "Requirement already satisfied: tqdm>=4.27 in c:\\users\\marcus home\\anaconda3\\lib\\site-packages (from transformers>=4.18.0->trl) (4.66.1)\n",
      "Requirement already satisfied: safetensors>=0.3.1 in c:\\users\\marcus home\\anaconda3\\lib\\site-packages (from transformers>=4.18.0->trl) (0.3.3)\n",
      "Requirement already satisfied: pyyaml>=5.1 in c:\\users\\marcus home\\anaconda3\\lib\\site-packages (from transformers>=4.18.0->trl) (5.4.1)\n",
      "Requirement already satisfied: tokenizers!=0.11.3,<0.14,>=0.11.1 in c:\\users\\marcus home\\anaconda3\\lib\\site-packages (from transformers>=4.18.0->trl) (0.13.3)\n",
      "Requirement already satisfied: requests in c:\\users\\marcus home\\anaconda3\\lib\\site-packages (from transformers>=4.18.0->trl) (2.25.1)\n",
      "Requirement already satisfied: fsspec in c:\\users\\marcus home\\anaconda3\\lib\\site-packages (from huggingface-hub<1.0,>=0.15.1->transformers>=4.18.0->trl) (2023.6.0)\n",
      "Requirement already satisfied: pyparsing>=2.0.2 in c:\\users\\marcus home\\anaconda3\\lib\\site-packages (from packaging>=20.0->transformers>=4.18.0->trl) (2.4.7)\n",
      "Requirement already satisfied: colorama in c:\\users\\marcus home\\appdata\\roaming\\python\\python38\\site-packages (from tqdm>=4.27->transformers>=4.18.0->trl) (0.4.4)\n",
      "Requirement already satisfied: psutil in c:\\users\\marcus home\\anaconda3\\lib\\site-packages (from accelerate->trl) (5.8.0)\n",
      "Requirement already satisfied: pandas in c:\\users\\marcus home\\anaconda3\\lib\\site-packages (from datasets->trl) (1.1.3)\n",
      "Requirement already satisfied: aiohttp in c:\\users\\marcus home\\anaconda3\\lib\\site-packages (from datasets->trl) (3.8.5)\n",
      "Requirement already satisfied: multiprocess in c:\\users\\marcus home\\anaconda3\\lib\\site-packages (from datasets->trl) (0.70.15)\n",
      "Requirement already satisfied: pyarrow>=8.0.0 in c:\\users\\marcus home\\anaconda3\\lib\\site-packages (from datasets->trl) (13.0.0)\n",
      "Requirement already satisfied: dill<0.3.8,>=0.3.0 in c:\\users\\marcus home\\anaconda3\\lib\\site-packages (from datasets->trl) (0.3.7)\n",
      "Requirement already satisfied: xxhash in c:\\users\\marcus home\\anaconda3\\lib\\site-packages (from datasets->trl) (3.3.0)\n",
      "Requirement already satisfied: aiosignal>=1.1.2 in c:\\users\\marcus home\\anaconda3\\lib\\site-packages (from aiohttp->datasets->trl) (1.3.1)\n",
      "Requirement already satisfied: yarl<2.0,>=1.0 in c:\\users\\marcus home\\anaconda3\\lib\\site-packages (from aiohttp->datasets->trl) (1.9.2)\n",
      "Requirement already satisfied: frozenlist>=1.1.1 in c:\\users\\marcus home\\anaconda3\\lib\\site-packages (from aiohttp->datasets->trl) (1.4.0)\n",
      "Requirement already satisfied: async-timeout<5.0,>=4.0.0a3 in c:\\users\\marcus home\\anaconda3\\lib\\site-packages (from aiohttp->datasets->trl) (4.0.3)\n",
      "Requirement already satisfied: charset-normalizer<4.0,>=2.0 in c:\\users\\marcus home\\anaconda3\\lib\\site-packages (from aiohttp->datasets->trl) (3.2.0)\n",
      "Requirement already satisfied: attrs>=17.3.0 in c:\\users\\marcus home\\anaconda3\\lib\\site-packages (from aiohttp->datasets->trl) (21.2.0)\n",
      "Requirement already satisfied: multidict<7.0,>=4.5 in c:\\users\\marcus home\\anaconda3\\lib\\site-packages (from aiohttp->datasets->trl) (6.0.4)\n",
      "Requirement already satisfied: certifi>=2017.4.17 in c:\\users\\marcus home\\anaconda3\\lib\\site-packages (from requests->transformers>=4.18.0->trl) (2021.5.30)\n",
      "Requirement already satisfied: urllib3<1.27,>=1.21.1 in c:\\users\\marcus home\\anaconda3\\lib\\site-packages (from requests->transformers>=4.18.0->trl) (1.26.6)\n",
      "Requirement already satisfied: chardet<5,>=3.0.2 in c:\\users\\marcus home\\anaconda3\\lib\\site-packages (from requests->transformers>=4.18.0->trl) (4.0.0)\n",
      "Requirement already satisfied: idna<3,>=2.5 in c:\\users\\marcus home\\anaconda3\\lib\\site-packages (from requests->transformers>=4.18.0->trl) (2.10)\n",
      "Requirement already satisfied: MarkupSafe>=0.23 in c:\\users\\marcus home\\anaconda3\\lib\\site-packages (from jinja2->torch>=1.4.0->trl) (2.0.1)\n",
      "Requirement already satisfied: python-dateutil>=2.7.3 in c:\\users\\marcus home\\anaconda3\\lib\\site-packages (from pandas->datasets->trl) (2.8.2)\n",
      "Requirement already satisfied: pytz>=2017.2 in c:\\users\\marcus home\\anaconda3\\lib\\site-packages (from pandas->datasets->trl) (2021.1)\n",
      "Requirement already satisfied: six>=1.5 in c:\\users\\marcus home\\appdata\\roaming\\python\\python38\\site-packages (from python-dateutil>=2.7.3->pandas->datasets->trl) (1.15.0)\n",
      "Requirement already satisfied: mpmath>=0.19 in c:\\users\\marcus home\\anaconda3\\lib\\site-packages (from sympy->torch>=1.4.0->trl) (1.2.1)\n",
      "Installing collected packages: torch, accelerate, trl\n",
      "Successfully installed accelerate-0.22.0 torch-2.0.1 trl-0.7.1\n",
      "Requirement already satisfied: torch in c:\\users\\marcus home\\anaconda3\\lib\\site-packages (2.0.1)\n",
      "Requirement already satisfied: sympy in c:\\users\\marcus home\\anaconda3\\lib\\site-packages (from torch) (1.8)\n",
      "Requirement already satisfied: filelock in c:\\users\\marcus home\\anaconda3\\lib\\site-packages (from torch) (3.0.12)\n",
      "Requirement already satisfied: typing-extensions in c:\\users\\marcus home\\anaconda3\\lib\\site-packages (from torch) (3.7.4.3)\n",
      "Requirement already satisfied: networkx in c:\\users\\marcus home\\anaconda3\\lib\\site-packages (from torch) (2.6.2)\n",
      "Requirement already satisfied: jinja2 in c:\\users\\marcus home\\anaconda3\\lib\\site-packages (from torch) (2.11.3)\n",
      "Requirement already satisfied: MarkupSafe>=0.23 in c:\\users\\marcus home\\anaconda3\\lib\\site-packages (from jinja2->torch) (2.0.1)\n",
      "Requirement already satisfied: mpmath>=0.19 in c:\\users\\marcus home\\anaconda3\\lib\\site-packages (from sympy->torch) (1.2.1)\n",
      "Collecting torchdata\n",
      "  Downloading torchdata-0.6.1-cp38-cp38-win_amd64.whl (1.3 MB)\n",
      "Requirement already satisfied: urllib3>=1.25 in c:\\users\\marcus home\\anaconda3\\lib\\site-packages (from torchdata) (1.26.6)\n",
      "Requirement already satisfied: torch==2.0.1 in c:\\users\\marcus home\\anaconda3\\lib\\site-packages (from torchdata) (2.0.1)\n",
      "Requirement already satisfied: requests in c:\\users\\marcus home\\anaconda3\\lib\\site-packages (from torchdata) (2.25.1)\n",
      "Requirement already satisfied: jinja2 in c:\\users\\marcus home\\anaconda3\\lib\\site-packages (from torch==2.0.1->torchdata) (2.11.3)\n",
      "Requirement already satisfied: networkx in c:\\users\\marcus home\\anaconda3\\lib\\site-packages (from torch==2.0.1->torchdata) (2.6.2)\n",
      "Requirement already satisfied: typing-extensions in c:\\users\\marcus home\\anaconda3\\lib\\site-packages (from torch==2.0.1->torchdata) (3.7.4.3)\n",
      "Requirement already satisfied: sympy in c:\\users\\marcus home\\anaconda3\\lib\\site-packages (from torch==2.0.1->torchdata) (1.8)\n",
      "Requirement already satisfied: filelock in c:\\users\\marcus home\\anaconda3\\lib\\site-packages (from torch==2.0.1->torchdata) (3.0.12)\n",
      "Requirement already satisfied: MarkupSafe>=0.23 in c:\\users\\marcus home\\anaconda3\\lib\\site-packages (from jinja2->torch==2.0.1->torchdata) (2.0.1)\n",
      "Requirement already satisfied: idna<3,>=2.5 in c:\\users\\marcus home\\anaconda3\\lib\\site-packages (from requests->torchdata) (2.10)\n",
      "Requirement already satisfied: certifi>=2017.4.17 in c:\\users\\marcus home\\anaconda3\\lib\\site-packages (from requests->torchdata) (2021.5.30)\n",
      "Requirement already satisfied: chardet<5,>=3.0.2 in c:\\users\\marcus home\\anaconda3\\lib\\site-packages (from requests->torchdata) (4.0.0)\n",
      "Requirement already satisfied: mpmath>=0.19 in c:\\users\\marcus home\\anaconda3\\lib\\site-packages (from sympy->torch==2.0.1->torchdata) (1.2.1)\n",
      "Installing collected packages: torchdata\n",
      "Successfully installed torchdata-0.6.1\n",
      "Collecting peft\n",
      "  Downloading peft-0.5.0-py3-none-any.whl (85 kB)\n",
      "Requirement already satisfied: accelerate in c:\\users\\marcus home\\anaconda3\\lib\\site-packages (from peft) (0.22.0)\n",
      "Requirement already satisfied: transformers in c:\\users\\marcus home\\anaconda3\\lib\\site-packages (from peft) (4.33.1)\n",
      "Requirement already satisfied: pyyaml in c:\\users\\marcus home\\anaconda3\\lib\\site-packages (from peft) (5.4.1)\n",
      "Requirement already satisfied: packaging>=20.0 in c:\\users\\marcus home\\anaconda3\\lib\\site-packages (from peft) (21.0)\n",
      "Requirement already satisfied: torch>=1.13.0 in c:\\users\\marcus home\\anaconda3\\lib\\site-packages (from peft) (2.0.1)\n",
      "Requirement already satisfied: safetensors in c:\\users\\marcus home\\anaconda3\\lib\\site-packages (from peft) (0.3.3)\n",
      "Requirement already satisfied: tqdm in c:\\users\\marcus home\\anaconda3\\lib\\site-packages (from peft) (4.66.1)\n",
      "Requirement already satisfied: psutil in c:\\users\\marcus home\\anaconda3\\lib\\site-packages (from peft) (5.8.0)\n",
      "Requirement already satisfied: numpy>=1.17 in c:\\users\\marcus home\\anaconda3\\lib\\site-packages (from peft) (1.19.5)\n",
      "Requirement already satisfied: pyparsing>=2.0.2 in c:\\users\\marcus home\\anaconda3\\lib\\site-packages (from packaging>=20.0->peft) (2.4.7)\n",
      "Requirement already satisfied: networkx in c:\\users\\marcus home\\anaconda3\\lib\\site-packages (from torch>=1.13.0->peft) (2.6.2)\n",
      "Requirement already satisfied: sympy in c:\\users\\marcus home\\anaconda3\\lib\\site-packages (from torch>=1.13.0->peft) (1.8)\n",
      "Requirement already satisfied: filelock in c:\\users\\marcus home\\anaconda3\\lib\\site-packages (from torch>=1.13.0->peft) (3.0.12)\n",
      "Requirement already satisfied: jinja2 in c:\\users\\marcus home\\anaconda3\\lib\\site-packages (from torch>=1.13.0->peft) (2.11.3)\n",
      "Requirement already satisfied: typing-extensions in c:\\users\\marcus home\\anaconda3\\lib\\site-packages (from torch>=1.13.0->peft) (3.7.4.3)\n",
      "Requirement already satisfied: MarkupSafe>=0.23 in c:\\users\\marcus home\\anaconda3\\lib\\site-packages (from jinja2->torch>=1.13.0->peft) (2.0.1)\n",
      "Requirement already satisfied: mpmath>=0.19 in c:\\users\\marcus home\\anaconda3\\lib\\site-packages (from sympy->torch>=1.13.0->peft) (1.2.1)\n",
      "Requirement already satisfied: colorama in c:\\users\\marcus home\\appdata\\roaming\\python\\python38\\site-packages (from tqdm->peft) (0.4.4)\n",
      "Requirement already satisfied: regex!=2019.12.17 in c:\\users\\marcus home\\anaconda3\\lib\\site-packages (from transformers->peft) (2021.7.6)\n",
      "Requirement already satisfied: tokenizers!=0.11.3,<0.14,>=0.11.1 in c:\\users\\marcus home\\anaconda3\\lib\\site-packages (from transformers->peft) (0.13.3)\n",
      "Requirement already satisfied: requests in c:\\users\\marcus home\\anaconda3\\lib\\site-packages (from transformers->peft) (2.25.1)\n",
      "Requirement already satisfied: huggingface-hub<1.0,>=0.15.1 in c:\\users\\marcus home\\anaconda3\\lib\\site-packages (from transformers->peft) (0.16.4)\n",
      "Requirement already satisfied: fsspec in c:\\users\\marcus home\\anaconda3\\lib\\site-packages (from huggingface-hub<1.0,>=0.15.1->transformers->peft) (2023.6.0)\n",
      "Requirement already satisfied: idna<3,>=2.5 in c:\\users\\marcus home\\anaconda3\\lib\\site-packages (from requests->transformers->peft) (2.10)\n",
      "Requirement already satisfied: chardet<5,>=3.0.2 in c:\\users\\marcus home\\anaconda3\\lib\\site-packages (from requests->transformers->peft) (4.0.0)\n",
      "Requirement already satisfied: certifi>=2017.4.17 in c:\\users\\marcus home\\anaconda3\\lib\\site-packages (from requests->transformers->peft) (2021.5.30)\n",
      "Requirement already satisfied: urllib3<1.27,>=1.21.1 in c:\\users\\marcus home\\anaconda3\\lib\\site-packages (from requests->transformers->peft) (1.26.6)\n",
      "Installing collected packages: peft\n",
      "Successfully installed peft-0.5.0\n"
     ]
    }
   ],
   "source": [
    "!pip install transformers\n",
    "!pip install datasets\n",
    "!pip install trl\n",
    "!pip install torch\n",
    "!pip install torchdata\n",
    "!pip install peft\n"
   ]
  },
  {
   "cell_type": "code",
   "execution_count": 9,
   "id": "c30e41ff",
   "metadata": {},
   "outputs": [],
   "source": [
    "import torch\n",
    "import textwrap\n",
    "from trl import SFTTrainer\n",
    "from datasets import load_dataset\n",
    "from peft import LoraConfig, get_peft_model, prepare_model_for_int8_training\n",
    "from transformers import AutoModelForCausalLM, AutoTokenizer, TrainingArguments"
   ]
  },
  {
   "cell_type": "code",
   "execution_count": 10,
   "id": "b8c89271",
   "metadata": {},
   "outputs": [
    {
     "name": "stdout",
     "output_type": "stream",
     "text": [
      "Dataset({\n",
      "    features: ['instruction', 'input', 'output', 'text'],\n",
      "    num_rows: 52002\n",
      "})\n"
     ]
    }
   ],
   "source": [
    "#chose base dataset that is in the structure of prompt/response we need\n",
    "#this one is \"instructions>input>output\"\n",
    "train_dataset = load_dataset(\"tatsu-lab/alpaca\", split=\"train\")\n",
    "print(train_dataset)"
   ]
  },
  {
   "cell_type": "code",
   "execution_count": 11,
   "id": "621066fc",
   "metadata": {},
   "outputs": [
    {
     "data": {
      "text/html": [
       "<div>\n",
       "<style scoped>\n",
       "    .dataframe tbody tr th:only-of-type {\n",
       "        vertical-align: middle;\n",
       "    }\n",
       "\n",
       "    .dataframe tbody tr th {\n",
       "        vertical-align: top;\n",
       "    }\n",
       "\n",
       "    .dataframe thead th {\n",
       "        text-align: right;\n",
       "    }\n",
       "</style>\n",
       "<table border=\"1\" class=\"dataframe\">\n",
       "  <thead>\n",
       "    <tr style=\"text-align: right;\">\n",
       "      <th></th>\n",
       "      <th>instruction</th>\n",
       "      <th>input</th>\n",
       "      <th>output</th>\n",
       "      <th>text</th>\n",
       "    </tr>\n",
       "  </thead>\n",
       "  <tbody>\n",
       "    <tr>\n",
       "      <th>0</th>\n",
       "      <td>Give three tips for staying healthy.</td>\n",
       "      <td></td>\n",
       "      <td>1.Eat a balanced diet and make sure to include...</td>\n",
       "      <td>Below is an instruction that describes a task....</td>\n",
       "    </tr>\n",
       "    <tr>\n",
       "      <th>1</th>\n",
       "      <td>What are the three primary colors?</td>\n",
       "      <td></td>\n",
       "      <td>The three primary colors are red, blue, and ye...</td>\n",
       "      <td>Below is an instruction that describes a task....</td>\n",
       "    </tr>\n",
       "    <tr>\n",
       "      <th>2</th>\n",
       "      <td>Describe the structure of an atom.</td>\n",
       "      <td></td>\n",
       "      <td>An atom is made up of a nucleus, which contain...</td>\n",
       "      <td>Below is an instruction that describes a task....</td>\n",
       "    </tr>\n",
       "    <tr>\n",
       "      <th>3</th>\n",
       "      <td>How can we reduce air pollution?</td>\n",
       "      <td></td>\n",
       "      <td>There are a number of ways to reduce air pollu...</td>\n",
       "      <td>Below is an instruction that describes a task....</td>\n",
       "    </tr>\n",
       "    <tr>\n",
       "      <th>4</th>\n",
       "      <td>Describe a time when you had to make a difficu...</td>\n",
       "      <td></td>\n",
       "      <td>I had to make a difficult decision when I was ...</td>\n",
       "      <td>Below is an instruction that describes a task....</td>\n",
       "    </tr>\n",
       "  </tbody>\n",
       "</table>\n",
       "</div>"
      ],
      "text/plain": [
       "                                         instruction input  \\\n",
       "0               Give three tips for staying healthy.         \n",
       "1                 What are the three primary colors?         \n",
       "2                 Describe the structure of an atom.         \n",
       "3                   How can we reduce air pollution?         \n",
       "4  Describe a time when you had to make a difficu...         \n",
       "\n",
       "                                              output  \\\n",
       "0  1.Eat a balanced diet and make sure to include...   \n",
       "1  The three primary colors are red, blue, and ye...   \n",
       "2  An atom is made up of a nucleus, which contain...   \n",
       "3  There are a number of ways to reduce air pollu...   \n",
       "4  I had to make a difficult decision when I was ...   \n",
       "\n",
       "                                                text  \n",
       "0  Below is an instruction that describes a task....  \n",
       "1  Below is an instruction that describes a task....  \n",
       "2  Below is an instruction that describes a task....  \n",
       "3  Below is an instruction that describes a task....  \n",
       "4  Below is an instruction that describes a task....  "
      ]
     },
     "metadata": {},
     "output_type": "display_data"
    }
   ],
   "source": [
    "pandas_format = train_dataset.to_pandas()\n",
    "display(pandas_format.head())"
   ]
  },
  {
   "cell_type": "code",
   "execution_count": 15,
   "id": "18381afe",
   "metadata": {},
   "outputs": [
    {
     "name": "stdout",
     "output_type": "stream",
     "text": [
      "---------------------------------------------\n",
      "Instruction:Give three tips for staying healthy.\n",
      "Output:1.Eat a balanced diet and make sure to include\n",
      "plenty of fruits and vegetables.  2. Exercise\n",
      "regularly to keep your body active and strong.  3.\n",
      "Get enough sleep and maintain a consistent sleep\n",
      "schedule.\n",
      "Text:Below is an instruction that describes a task.\n",
      "Write a response that appropriately completes the\n",
      "request.  ### Instruction: Give three tips for\n",
      "staying healthy.  ### Response: 1.Eat a balanced\n",
      "diet and make sure to include plenty of fruits and\n",
      "vegetables.  2. Exercise regularly to keep your\n",
      "body active and strong.  3. Get enough sleep and\n",
      "maintain a consistent sleep schedule.\n",
      "---------------------------------------------\n",
      "Instruction:What are the three primary colors?\n",
      "Output:The three primary colors are red, blue, and\n",
      "yellow.\n",
      "Text:Below is an instruction that describes a task.\n",
      "Write a response that appropriately completes the\n",
      "request.  ### Instruction: What are the three\n",
      "primary colors?  ### Response: The three primary\n",
      "colors are red, blue, and yellow.\n",
      "---------------------------------------------\n",
      "Instruction:Describe the structure of an atom.\n",
      "Output:An atom is made up of a nucleus, which contains\n",
      "protons and neutrons, surrounded by electrons that\n",
      "travel in orbits around the nucleus. The protons\n",
      "and neutrons have a positive charge, while the\n",
      "electrons have a negative charge, resulting in an\n",
      "overall neutral atom. The number of each particle\n",
      "determines the atomic number and the type of atom.\n",
      "Text:Below is an instruction that describes a task.\n",
      "Write a response that appropriately completes the\n",
      "request.  ### Instruction: Describe the structure\n",
      "of an atom.  ### Response: An atom is made up of a\n",
      "nucleus, which contains protons and neutrons,\n",
      "surrounded by electrons that travel in orbits\n",
      "around the nucleus. The protons and neutrons have\n",
      "a positive charge, while the electrons have a\n",
      "negative charge, resulting in an overall neutral\n",
      "atom. The number of each particle determines the\n",
      "atomic number and the type of atom.\n"
     ]
    }
   ],
   "source": [
    "for index in range(3):\n",
    "   print(\"---\"*15)\n",
    "   print(\"Instruction:{}\".format(textwrap.fill(pandas_format.iloc[index][\"instruction\"],    \n",
    "       width=50)))\n",
    "   print(\"Output:{}\".format(textwrap.fill(pandas_format.iloc[index][\"output\"],  \n",
    "       width=50)))\n",
    "   print(\"Text:{}\".format(textwrap.fill(pandas_format.iloc[index][\"text\"],  \n",
    "       width=50)))"
   ]
  },
  {
   "cell_type": "code",
   "execution_count": 22,
   "id": "daab9cda",
   "metadata": {},
   "outputs": [
    {
     "data": {
      "application/vnd.jupyter.widget-view+json": {
       "model_id": "1f8354b9f7d14de78605d26cb69bec00",
       "version_major": 2,
       "version_minor": 0
      },
      "text/plain": [
       "Downloading (…)lve/main/config.json:   0%|          | 0.00/665 [00:00<?, ?B/s]"
      ]
     },
     "metadata": {},
     "output_type": "display_data"
    },
    {
     "data": {
      "application/vnd.jupyter.widget-view+json": {
       "model_id": "011cb351830d48269a1e69cd97628258",
       "version_major": 2,
       "version_minor": 0
      },
      "text/plain": [
       "Downloading model.safetensors:   0%|          | 0.00/548M [00:00<?, ?B/s]"
      ]
     },
     "metadata": {},
     "output_type": "display_data"
    },
    {
     "data": {
      "application/vnd.jupyter.widget-view+json": {
       "model_id": "f613d4e37fd248faa2c80ea353494c20",
       "version_major": 2,
       "version_minor": 0
      },
      "text/plain": [
       "Downloading (…)neration_config.json:   0%|          | 0.00/124 [00:00<?, ?B/s]"
      ]
     },
     "metadata": {},
     "output_type": "display_data"
    },
    {
     "data": {
      "application/vnd.jupyter.widget-view+json": {
       "model_id": "1314650996aa4be6a2439efe6892f991",
       "version_major": 2,
       "version_minor": 0
      },
      "text/plain": [
       "Downloading (…)olve/main/vocab.json:   0%|          | 0.00/1.04M [00:00<?, ?B/s]"
      ]
     },
     "metadata": {},
     "output_type": "display_data"
    },
    {
     "data": {
      "application/vnd.jupyter.widget-view+json": {
       "model_id": "89f2b20bba834492b203c6d109fe600b",
       "version_major": 2,
       "version_minor": 0
      },
      "text/plain": [
       "Downloading (…)olve/main/merges.txt:   0%|          | 0.00/456k [00:00<?, ?B/s]"
      ]
     },
     "metadata": {},
     "output_type": "display_data"
    },
    {
     "data": {
      "application/vnd.jupyter.widget-view+json": {
       "model_id": "24bb91846949457da47a8478553d7853",
       "version_major": 2,
       "version_minor": 0
      },
      "text/plain": [
       "Downloading (…)/main/tokenizer.json:   0%|          | 0.00/1.36M [00:00<?, ?B/s]"
      ]
     },
     "metadata": {},
     "output_type": "display_data"
    }
   ],
   "source": [
    "pretrained_model_name = \"gpt2\"\n",
    "model = AutoModelForCausalLM.from_pretrained(pretrained_model_name, torch_dtype=torch.bfloat16)\n",
    "tokenizer = AutoTokenizer.from_pretrained(pretrained_model_name, trust_remote_code=True)"
   ]
  },
  {
   "cell_type": "code",
   "execution_count": 33,
   "id": "44a8ea3c",
   "metadata": {},
   "outputs": [],
   "source": [
    "model_training_args = TrainingArguments(\n",
    "       output_dir=\"gpt2-base-fine-tuned\",       \n",
    "       per_device_train_batch_size=4,\n",
    "       optim=\"adamw_torch\",\n",
    "       logging_steps=80,\n",
    "       learning_rate=2e-4,\n",
    "       warmup_ratio=0.1,\n",
    "       lr_scheduler_type=\"linear\",\n",
    "       num_train_epochs=1,\n",
    "       save_strategy=\"epoch\"\n",
    "   )"
   ]
  },
  {
   "cell_type": "code",
   "execution_count": 34,
   "id": "b421d5f6",
   "metadata": {},
   "outputs": [
    {
     "data": {
      "image/png": "[encoded data removed]",
      "text/plain": [
       "<Figure size 720x432 with 1 Axes>"
      ]
     },
     "metadata": {
      "needs_background": "light"
     },
     "output_type": "display_data"
    }
   ],
   "source": [
    "import matplotlib.pyplot as plt\n",
    "\n",
    "\n",
    "pandas_format['text_length'] = pandas_format['text'].apply(len)\n",
    "\n",
    "\n",
    "plt.figure(figsize=(10,6))\n",
    "plt.hist(pandas_format['text_length'], bins=50, alpha=0.5, color='g')\n",
    "plt.title('Distribution of Length of Text')\n",
    "plt.xlabel('Length of Text')\n",
    "plt.ylabel('Frequency')\n",
    "plt.grid(True)\n",
    "plt.show()\n",
    "\n"
   ]
  },
  {
   "cell_type": "code",
   "execution_count": 35,
   "id": "77912983",
   "metadata": {},
   "outputs": [],
   "source": [
    "mask = pandas_format['text_length'] > 1024\n",
    "percentage = (mask.sum() / pandas_format['text_length'].count()) * 100"
   ]
  },
  {
   "cell_type": "code",
   "execution_count": 37,
   "id": "7d03a5d2",
   "metadata": {},
   "outputs": [
    {
     "ename": "NameError",
     "evalue": "name 'lora_peft_config' is not defined",
     "output_type": "error",
     "traceback": [
      "\u001b[1;31m---------------------------------------------------------------------------\u001b[0m",
      "\u001b[1;31mNameError\u001b[0m                                 Traceback (most recent call last)",
      "\u001b[1;32m<ipython-input-37-6cc9177919f6>\u001b[0m in \u001b[0;36m<module>\u001b[1;34m\u001b[0m\n\u001b[0;32m      7\u001b[0m        \u001b[0margs\u001b[0m\u001b[1;33m=\u001b[0m\u001b[0mmodel_training_args\u001b[0m\u001b[1;33m,\u001b[0m\u001b[1;33m\u001b[0m\u001b[1;33m\u001b[0m\u001b[0m\n\u001b[0;32m      8\u001b[0m        \u001b[0mpacking\u001b[0m\u001b[1;33m=\u001b[0m\u001b[1;32mTrue\u001b[0m\u001b[1;33m,\u001b[0m\u001b[1;33m\u001b[0m\u001b[1;33m\u001b[0m\u001b[0m\n\u001b[1;32m----> 9\u001b[1;33m        \u001b[0mpeft_config\u001b[0m\u001b[1;33m=\u001b[0m\u001b[0mlora_peft_config\u001b[0m\u001b[1;33m,\u001b[0m\u001b[1;33m\u001b[0m\u001b[1;33m\u001b[0m\u001b[0m\n\u001b[0m\u001b[0;32m     10\u001b[0m    )\n",
      "\u001b[1;31mNameError\u001b[0m: name 'lora_peft_config' is not defined"
     ]
    }
   ],
   "source": [
    "SFT_trainer = SFTTrainer(\n",
    "       model=model,\n",
    "       train_dataset=train_dataset,\n",
    "       dataset_text_field=\"text\",\n",
    "       max_seq_length=1024,\n",
    "       tokenizer=tokenizer,\n",
    "       args=model_training_args,\n",
    "       packing=True,\n",
    "       peft_config=lora_peft_config,\n",
    "   )"
   ]
  },
  {
   "cell_type": "code",
   "execution_count": null,
   "id": "2040ac78",
   "metadata": {},
   "outputs": [],
   "source": []
  }
 ],
 "metadata": {
  "kernelspec": {
   "display_name": "Python 3",
   "language": "python",
   "name": "python3"
  },
  "language_info": {
   "codemirror_mode": {
    "name": "ipython",
    "version": 3
   },
   "file_extension": ".py",
   "mimetype": "text/x-python",
   "name": "python",
   "nbconvert_exporter": "python",
   "pygments_lexer": "ipython3",
   "version": "3.8.10"
  }
 },
 "nbformat": 4,
 "nbformat_minor": 5
}
